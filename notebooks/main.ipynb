{
 "cells": [
  {
   "cell_type": "markdown",
   "metadata": {},
   "source": [
    "# Nettoyage des messages Twitch\n",
    "\n",
    "Ce notebook permet de nettoyer les messages du chat Twitch en utilisant BERT."
   ]
  },
  {
   "cell_type": "code",
   "execution_count": 5,
   "metadata": {},
   "outputs": [],
   "source": [
    "import pandas as pd\n",
    "import sys\n",
    "sys.path.append('..')\n",
    "from src.clean import clean_messages\n",
    "from src.embedding import create_embeddings_dataframe"
   ]
  },
  {
   "cell_type": "markdown",
   "metadata": {},
   "source": [
    "## Chargement des données"
   ]
  },
  {
   "cell_type": "code",
   "execution_count": 6,
   "metadata": {},
   "outputs": [
    {
     "name": "stdout",
     "output_type": "stream",
     "text": [
      "Nombre de messages : 151\n"
     ]
    },
    {
     "data": {
      "text/html": [
       "<div>\n",
       "<style scoped>\n",
       "    .dataframe tbody tr th:only-of-type {\n",
       "        vertical-align: middle;\n",
       "    }\n",
       "\n",
       "    .dataframe tbody tr th {\n",
       "        vertical-align: top;\n",
       "    }\n",
       "\n",
       "    .dataframe thead th {\n",
       "        text-align: right;\n",
       "    }\n",
       "</style>\n",
       "<table border=\"1\" class=\"dataframe\">\n",
       "  <thead>\n",
       "    <tr style=\"text-align: right;\">\n",
       "      <th></th>\n",
       "      <th>username</th>\n",
       "      <th>content</th>\n",
       "      <th>timestamp</th>\n",
       "    </tr>\n",
       "  </thead>\n",
       "  <tbody>\n",
       "    <tr>\n",
       "      <th>0</th>\n",
       "      <td>utsuru</td>\n",
       "      <td>Ils ont dû en vendre à balle des Plague Inc su...</td>\n",
       "      <td>2025-06-19T09:33:29.317109</td>\n",
       "    </tr>\n",
       "    <tr>\n",
       "      <th>1</th>\n",
       "      <td>salmuth</td>\n",
       "      <td>Le tuto est plutôt bien foutu aussi.</td>\n",
       "      <td>2025-06-19T09:33:40.201632</td>\n",
       "    </tr>\n",
       "    <tr>\n",
       "      <th>2</th>\n",
       "      <td>thiorah</td>\n",
       "      <td>@RastelleFR heyo Rara peepoSitHey</td>\n",
       "      <td>2025-06-19T09:33:43.381817</td>\n",
       "    </tr>\n",
       "    <tr>\n",
       "      <th>3</th>\n",
       "      <td>nanoq__</td>\n",
       "      <td>jour 2 ça part déjà en manif</td>\n",
       "      <td>2025-06-19T09:33:44.874192</td>\n",
       "    </tr>\n",
       "    <tr>\n",
       "      <th>4</th>\n",
       "      <td>utsuru</td>\n",
       "      <td>Eux le covid ça les a bien aidé</td>\n",
       "      <td>2025-06-19T09:33:45.394817</td>\n",
       "    </tr>\n",
       "  </tbody>\n",
       "</table>\n",
       "</div>"
      ],
      "text/plain": [
       "  username                                            content  \\\n",
       "0   utsuru  Ils ont dû en vendre à balle des Plague Inc su...   \n",
       "1  salmuth               Le tuto est plutôt bien foutu aussi.   \n",
       "2  thiorah                  @RastelleFR heyo Rara peepoSitHey   \n",
       "3  nanoq__                       jour 2 ça part déjà en manif   \n",
       "4   utsuru                    Eux le covid ça les a bien aidé   \n",
       "\n",
       "                    timestamp  \n",
       "0  2025-06-19T09:33:29.317109  \n",
       "1  2025-06-19T09:33:40.201632  \n",
       "2  2025-06-19T09:33:43.381817  \n",
       "3  2025-06-19T09:33:44.874192  \n",
       "4  2025-06-19T09:33:45.394817  "
      ]
     },
     "execution_count": 6,
     "metadata": {},
     "output_type": "execute_result"
    }
   ],
   "source": [
    "# Chargement du CSV\n",
    "df = pd.read_csv(\"../data/chat_messages_mynthos.csv\")\n",
    "print(f\"Nombre de messages : {len(df)}\")\n",
    "df.head()"
   ]
  },
  {
   "cell_type": "markdown",
   "metadata": {},
   "source": [
    "## Nettoyage des messages"
   ]
  },
  {
   "cell_type": "code",
   "execution_count": 7,
   "metadata": {},
   "outputs": [
    {
     "name": "stdout",
     "output_type": "stream",
     "text": [
      "✅ Nettoyage terminé\n"
     ]
    },
    {
     "data": {
      "text/html": [
       "<div>\n",
       "<style scoped>\n",
       "    .dataframe tbody tr th:only-of-type {\n",
       "        vertical-align: middle;\n",
       "    }\n",
       "\n",
       "    .dataframe tbody tr th {\n",
       "        vertical-align: top;\n",
       "    }\n",
       "\n",
       "    .dataframe thead th {\n",
       "        text-align: right;\n",
       "    }\n",
       "</style>\n",
       "<table border=\"1\" class=\"dataframe\">\n",
       "  <thead>\n",
       "    <tr style=\"text-align: right;\">\n",
       "      <th></th>\n",
       "      <th>username</th>\n",
       "      <th>content</th>\n",
       "      <th>timestamp</th>\n",
       "    </tr>\n",
       "  </thead>\n",
       "  <tbody>\n",
       "    <tr>\n",
       "      <th>0</th>\n",
       "      <td>utsuru</td>\n",
       "      <td>vendre avoir ball plague inc mobile</td>\n",
       "      <td>2025-06-19T09:33:29.317109</td>\n",
       "    </tr>\n",
       "    <tr>\n",
       "      <th>1</th>\n",
       "      <td>salmuth</td>\n",
       "      <td>tuto plutot bien foutu aussi</td>\n",
       "      <td>2025-06-19T09:33:40.201632</td>\n",
       "    </tr>\n",
       "    <tr>\n",
       "      <th>2</th>\n",
       "      <td>thiorah</td>\n",
       "      <td>heyo rarer peeposithey</td>\n",
       "      <td>2025-06-19T09:33:43.381817</td>\n",
       "    </tr>\n",
       "    <tr>\n",
       "      <th>3</th>\n",
       "      <td>nanoq__</td>\n",
       "      <td>jour 2 ca part dejer manif</td>\n",
       "      <td>2025-06-19T09:33:44.874192</td>\n",
       "    </tr>\n",
       "    <tr>\n",
       "      <th>4</th>\n",
       "      <td>utsuru</td>\n",
       "      <td>covid ca avoir bien aide</td>\n",
       "      <td>2025-06-19T09:33:45.394817</td>\n",
       "    </tr>\n",
       "  </tbody>\n",
       "</table>\n",
       "</div>"
      ],
      "text/plain": [
       "  username                              content                   timestamp\n",
       "0   utsuru  vendre avoir ball plague inc mobile  2025-06-19T09:33:29.317109\n",
       "1  salmuth         tuto plutot bien foutu aussi  2025-06-19T09:33:40.201632\n",
       "2  thiorah               heyo rarer peeposithey  2025-06-19T09:33:43.381817\n",
       "3  nanoq__           jour 2 ca part dejer manif  2025-06-19T09:33:44.874192\n",
       "4   utsuru             covid ca avoir bien aide  2025-06-19T09:33:45.394817"
      ]
     },
     "execution_count": 7,
     "metadata": {},
     "output_type": "execute_result"
    }
   ],
   "source": [
    "# Nettoyage des messages\n",
    "df_cleaned = clean_messages(df)\n",
    "print(\"✅ Nettoyage terminé\")\n",
    "df_cleaned.head()"
   ]
  },
  {
   "cell_type": "markdown",
   "metadata": {},
   "source": [
    "## Embedding"
   ]
  },
  {
   "cell_type": "code",
   "execution_count": 10,
   "metadata": {},
   "outputs": [
    {
     "data": {
      "application/vnd.jupyter.widget-view+json": {
       "model_id": "8f2d035ace5c4d67935b23f965cfe3d5",
       "version_major": 2,
       "version_minor": 0
      },
      "text/plain": [
       "Batches:   0%|          | 0/5 [00:00<?, ?it/s]"
      ]
     },
     "metadata": {},
     "output_type": "display_data"
    }
   ],
   "source": [
    "df_with_embeddings, embeddings = create_embeddings_dataframe(\n",
    "    df_cleaned, \n",
    "    model_name='paraphrase-multilingual-MiniLM-L12-v2'\n",
    ")"
   ]
  },
  {
   "cell_type": "markdown",
   "metadata": {},
   "source": [
    "## Sauvegarde des données nettoyées"
   ]
  },
  {
   "cell_type": "code",
   "execution_count": 11,
   "metadata": {},
   "outputs": [
    {
     "name": "stdout",
     "output_type": "stream",
     "text": [
      "✅ Données sauvegardées\n"
     ]
    }
   ],
   "source": [
    "# Sauvegarde des donnees nettoyees\n",
    "df_with_embeddings.to_csv(\"../data/chat_messages_mynthos_clean.csv\", index=False)\n",
    "print(\"✅ Données sauvegardées\")"
   ]
  }
 ],
 "metadata": {
  "kernelspec": {
   "display_name": "TwitchPulseEnv",
   "language": "python",
   "name": "python3"
  },
  "language_info": {
   "codemirror_mode": {
    "name": "ipython",
    "version": 3
   },
   "file_extension": ".py",
   "mimetype": "text/x-python",
   "name": "python",
   "nbconvert_exporter": "python",
   "pygments_lexer": "ipython3",
   "version": "3.13.5"
  }
 },
 "nbformat": 4,
 "nbformat_minor": 4
}
