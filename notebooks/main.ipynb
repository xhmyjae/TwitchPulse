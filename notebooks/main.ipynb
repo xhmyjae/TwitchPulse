{
 "cells": [
  {
   "cell_type": "markdown",
   "metadata": {},
   "source": [
    "# Nettoyage des messages Twitch\n",
    "\n",
    "Ce notebook permet de nettoyer les messages du chat Twitch en utilisant BERT."
   ]
  },
  {
   "cell_type": "code",
   "execution_count": 1,
   "metadata": {},
   "outputs": [
    {
     "name": "stderr",
     "output_type": "stream",
     "text": [
      "c:\\Users\\jaech\\miniconda3\\envs\\TwitchPulseEnv\\Lib\\site-packages\\requests\\__init__.py:86: RequestsDependencyWarning: Unable to find acceptable character detection dependency (chardet or charset_normalizer).\n",
      "  warnings.warn(\n"
     ]
    }
   ],
   "source": [
    "import pandas as pd\n",
    "import sys\n",
    "sys.path.append('..')\n",
    "from src.clean import clean_messages"
   ]
  },
  {
   "cell_type": "markdown",
   "metadata": {},
   "source": [
    "## Chargement des données"
   ]
  },
  {
   "cell_type": "code",
   "execution_count": 5,
   "metadata": {},
   "outputs": [
    {
     "name": "stdout",
     "output_type": "stream",
     "text": [
      "Nombre de messages : 353\n"
     ]
    },
    {
     "data": {
      "text/html": [
       "<div>\n",
       "<style scoped>\n",
       "    .dataframe tbody tr th:only-of-type {\n",
       "        vertical-align: middle;\n",
       "    }\n",
       "\n",
       "    .dataframe tbody tr th {\n",
       "        vertical-align: top;\n",
       "    }\n",
       "\n",
       "    .dataframe thead th {\n",
       "        text-align: right;\n",
       "    }\n",
       "</style>\n",
       "<table border=\"1\" class=\"dataframe\">\n",
       "  <thead>\n",
       "    <tr style=\"text-align: right;\">\n",
       "      <th></th>\n",
       "      <th>username</th>\n",
       "      <th>content</th>\n",
       "      <th>timestamp</th>\n",
       "    </tr>\n",
       "  </thead>\n",
       "  <tbody>\n",
       "    <tr>\n",
       "      <th>0</th>\n",
       "      <td>marilyonne</td>\n",
       "      <td>@Hortax_FR Ouiiiiiiiiiiiiii</td>\n",
       "      <td>2025-06-17T11:44:53.061275</td>\n",
       "    </tr>\n",
       "    <tr>\n",
       "      <th>1</th>\n",
       "      <td>colbain98</td>\n",
       "      <td>@gzd6666 +1</td>\n",
       "      <td>2025-06-17T11:44:55.761498</td>\n",
       "    </tr>\n",
       "    <tr>\n",
       "      <th>2</th>\n",
       "      <td>leebpascal</td>\n",
       "      <td>Lille Lens, Marseille Nice, Bordeaux Toulouse,...</td>\n",
       "      <td>2025-06-17T11:44:57.001659</td>\n",
       "    </tr>\n",
       "    <tr>\n",
       "      <th>3</th>\n",
       "      <td>flo__ki</td>\n",
       "      <td>Au fait @samueletienne pourquoi on a plus le n...</td>\n",
       "      <td>2025-06-17T11:44:59.168458</td>\n",
       "    </tr>\n",
       "    <tr>\n",
       "      <th>4</th>\n",
       "      <td>bertocheeee</td>\n",
       "      <td>@clamakinisback il me faisait marrer en commen...</td>\n",
       "      <td>2025-06-17T11:45:01.757233</td>\n",
       "    </tr>\n",
       "  </tbody>\n",
       "</table>\n",
       "</div>"
      ],
      "text/plain": [
       "      username                                            content  \\\n",
       "0   marilyonne                        @Hortax_FR Ouiiiiiiiiiiiiii   \n",
       "1    colbain98                                        @gzd6666 +1   \n",
       "2   leebpascal  Lille Lens, Marseille Nice, Bordeaux Toulouse,...   \n",
       "3      flo__ki  Au fait @samueletienne pourquoi on a plus le n...   \n",
       "4  bertocheeee  @clamakinisback il me faisait marrer en commen...   \n",
       "\n",
       "                    timestamp  \n",
       "0  2025-06-17T11:44:53.061275  \n",
       "1  2025-06-17T11:44:55.761498  \n",
       "2  2025-06-17T11:44:57.001659  \n",
       "3  2025-06-17T11:44:59.168458  \n",
       "4  2025-06-17T11:45:01.757233  "
      ]
     },
     "execution_count": 5,
     "metadata": {},
     "output_type": "execute_result"
    }
   ],
   "source": [
    "# Chargement du CSV\n",
    "df = pd.read_csv(\"../data/chat_messages_samueletienne.csv\")\n",
    "print(f\"Nombre de messages : {len(df)}\")\n",
    "df.head()"
   ]
  },
  {
   "cell_type": "markdown",
   "metadata": {},
   "source": [
    "## Nettoyage des messages"
   ]
  },
  {
   "cell_type": "code",
   "execution_count": 6,
   "metadata": {},
   "outputs": [
    {
     "name": "stdout",
     "output_type": "stream",
     "text": [
      "✅ Nettoyage terminé\n"
     ]
    },
    {
     "data": {
      "text/html": [
       "<div>\n",
       "<style scoped>\n",
       "    .dataframe tbody tr th:only-of-type {\n",
       "        vertical-align: middle;\n",
       "    }\n",
       "\n",
       "    .dataframe tbody tr th {\n",
       "        vertical-align: top;\n",
       "    }\n",
       "\n",
       "    .dataframe thead th {\n",
       "        text-align: right;\n",
       "    }\n",
       "</style>\n",
       "<table border=\"1\" class=\"dataframe\">\n",
       "  <thead>\n",
       "    <tr style=\"text-align: right;\">\n",
       "      <th></th>\n",
       "      <th>username</th>\n",
       "      <th>content</th>\n",
       "      <th>timestamp</th>\n",
       "    </tr>\n",
       "  </thead>\n",
       "  <tbody>\n",
       "    <tr>\n",
       "      <th>0</th>\n",
       "      <td>marilyonne</td>\n",
       "      <td>oui ##iiiiiiii ##iiiii</td>\n",
       "      <td>2025-06-17T11:44:53.061275</td>\n",
       "    </tr>\n",
       "    <tr>\n",
       "      <th>1</th>\n",
       "      <td>colbain98</td>\n",
       "      <td>1</td>\n",
       "      <td>2025-06-17T11:44:55.761498</td>\n",
       "    </tr>\n",
       "    <tr>\n",
       "      <th>2</th>\n",
       "      <td>leebpascal</td>\n",
       "      <td>lil ##le len ##s marseill ##e ni ##ce borde ##...</td>\n",
       "      <td>2025-06-17T11:44:57.001659</td>\n",
       "    </tr>\n",
       "    <tr>\n",
       "      <th>3</th>\n",
       "      <td>flo__ki</td>\n",
       "      <td>fait pourquoi a plus num ##ero chaine tv log #...</td>\n",
       "      <td>2025-06-17T11:44:59.168458</td>\n",
       "    </tr>\n",
       "    <tr>\n",
       "      <th>4</th>\n",
       "      <td>bertocheeee</td>\n",
       "      <td>faisait mar ##rer comment ##ary chaine le ##qu...</td>\n",
       "      <td>2025-06-17T11:45:01.757233</td>\n",
       "    </tr>\n",
       "  </tbody>\n",
       "</table>\n",
       "</div>"
      ],
      "text/plain": [
       "      username                                            content  \\\n",
       "0   marilyonne                             oui ##iiiiiiii ##iiiii   \n",
       "1    colbain98                                                  1   \n",
       "2   leebpascal  lil ##le len ##s marseill ##e ni ##ce borde ##...   \n",
       "3      flo__ki  fait pourquoi a plus num ##ero chaine tv log #...   \n",
       "4  bertocheeee  faisait mar ##rer comment ##ary chaine le ##qu...   \n",
       "\n",
       "                    timestamp  \n",
       "0  2025-06-17T11:44:53.061275  \n",
       "1  2025-06-17T11:44:55.761498  \n",
       "2  2025-06-17T11:44:57.001659  \n",
       "3  2025-06-17T11:44:59.168458  \n",
       "4  2025-06-17T11:45:01.757233  "
      ]
     },
     "execution_count": 6,
     "metadata": {},
     "output_type": "execute_result"
    }
   ],
   "source": [
    "# Nettoyage des messages\n",
    "df_cleaned = clean_messages(df)\n",
    "print(\"✅ Nettoyage terminé\")\n",
    "df_cleaned.head()"
   ]
  },
  {
   "cell_type": "markdown",
   "metadata": {},
   "source": [
    "## Sauvegarde des données nettoyées"
   ]
  },
  {
   "cell_type": "code",
   "execution_count": 7,
   "metadata": {},
   "outputs": [
    {
     "name": "stdout",
     "output_type": "stream",
     "text": [
      "✅ Données sauvegardées\n"
     ]
    }
   ],
   "source": [
    "# Sauvegarde des donnees nettoyees\n",
    "df_cleaned.to_csv(\"../data/chat_messages_mynthos_clean.csv\", index=False)\n",
    "print(\"✅ Données sauvegardées\")"
   ]
  }
 ],
 "metadata": {
  "kernelspec": {
   "display_name": "TwitchPulseEnv",
   "language": "python",
   "name": "python3"
  },
  "language_info": {
   "codemirror_mode": {
    "name": "ipython",
    "version": 3
   },
   "file_extension": ".py",
   "mimetype": "text/x-python",
   "name": "python",
   "nbconvert_exporter": "python",
   "pygments_lexer": "ipython3",
   "version": "3.13.5"
  }
 },
 "nbformat": 4,
 "nbformat_minor": 4
}
